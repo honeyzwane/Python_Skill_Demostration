{
 "cells": [
  {
   "cell_type": "markdown",
   "metadata": {},
   "source": [
    "# Python Practical Exam\n",
    "\n",
    "© Explore Data Science Academy\n",
    "## Instructions to students\n",
    "* **DO NOT ADD / REMOVE CELLS FROM THIS NOTEBOOK, AND DO NOT CHANGE THE NAMES OF THE FUNCTIONS REQUIRED FOR TESTING.**\n",
    "  \n",
    "* This exam consits of six questions. Each of the questions are independent and do not require you to use functions built from previous questions. You can answer any question in any order you like.\n",
    "\n",
    "* Ensure that the answers to your questions do not contain `syntax` or `indentation` errors. Questions with these errors will break the autograder, and will mark the _**entire exam**_ as incorrect. The autograder will give you an error message if this is the case. Use this error message to correct the offending code, or, comment it out before resubmitting.\n",
    "* You will be able to make _**multiple submissions**_ to the autograder. Use this ability to check whether a question you have answered is correct before proceeding to the next question.\n",
    "* Only place code in sections that contain the `# Your code here` comment.\n",
    "* We have provided some expected outputs for your code. Use these to determine whether your code is behaving as intended.\n",
    "* Some questions may have multiple requirements. It is possible to receive partial marks in these questions, so if you get stuck, try submitting to the autograder before moving on."
   ]
  },
  {
   "cell_type": "code",
   "execution_count": 2,
   "metadata": {},
   "outputs": [],
   "source": [
    "import numpy as np\n",
    "import pandas as pd"
   ]
  },
  {
   "cell_type": "markdown",
   "metadata": {},
   "source": [
    "## Section 1: Numerical Computation\n",
    "### Question 1\n",
    "We have a rope and want to cut the rope into 4 pieces to make a square. Given a rope of length $x$, what is the largest square (by area) that can be built given that a side, $s$, of the square can only be integer values? Units of measurement can be ignored, we are only interested in the numerical value of the solution.\n",
    "<p align=\"center\">\n",
    "<img src=\"https://raw.githubusercontent.com/Explore-AI/Pictures/master/python_fundamentals/python_exam/Largest_Square_Rope.jpg\"\n",
    "     alt=\"Largest Square\"\n",
    "     style=\"float: center; padding-bottom=0.5em\"\n",
    "     width=700px/>\n",
    "     <br>\n",
    "     <em>Figure 1: Area of the largest square enclosed by a rope </em>\n",
    "</p>    \n",
    "\n",
    "**Function specifications**\n",
    "\n",
    "*Argument(s):*\n",
    "\n",
    "- **x** `(float)` $\\rightarrow$ the length of the rope\n",
    "\n",
    "*Return:* \n",
    "\n",
    "- **area** `(int)` $\\rightarrow$ the area of the square formed by the rope\n",
    "\n",
    "> 💡**HINT**💡\n",
    ">\n",
    ">The perimeter of the square cannot exceed the length of the rope.\n",
    "\n",
    "<br>\n",
    "\n",
    ">**SOLUTION**\n",
    ">\n",
    ">A square will always have 4 equal sides, so the perimeter of the square can be given by:\n",
    ">\n",
    ">$p=4s$\n",
    ">\n",
    ">However the perimeter of the square cannot exceed the length of the rope, so we know for a fact that:\n",
    ">\n",
    ">_**Contraint:**_ $p \\leq x$\n",
    ">\n",
    ">$\\implies 4s \\leq x$\n",
    ">\n",
    ">$\\implies s \\leq \\frac{x}{4} $  where $\\frac{x}{4} \\in \\R$\n",
    ">\n",
    ">A further constraint is that the length of a single side has to be an integer value, to do this we can discard the fractional part of the real number - leaving an integer value. This can be achieved by using the `np.floor()` function:\n",
    ">\n",
    ">$\\implies s = \\lfloor \\frac{x}{4} \\rfloor$  where $\\lfloor \\frac{x}{4} \\rfloor \\in \\Z$\n",
    ">\n",
    ">Now to obtain the area of the square: \n",
    ">\n",
    ">$Area =s^2$\n",
    ">\n",
    ">$Area =\\lfloor \\frac{x}{4} \\rfloor^2 $\n",
    ">\n",
    ">The above computation can be used to write the required python function"
   ]
  },
  {
   "cell_type": "code",
   "execution_count": 140,
   "metadata": {},
   "outputs": [],
   "source": [
    "### START FUNCTION\n",
    "def largest_square(x):\n",
    "    s = int(np.float(x/4))\n",
    "    area = s**2\n",
    "    return area\n",
    "### END FUNCTION"
   ]
  },
  {
   "cell_type": "code",
   "execution_count": 141,
   "metadata": {},
   "outputs": [
    {
     "data": {
      "text/plain": [
       "4761"
      ]
     },
     "execution_count": 141,
     "metadata": {},
     "output_type": "execute_result"
    }
   ],
   "source": [
    "largest_square(279)"
   ]
  },
  {
   "cell_type": "markdown",
   "metadata": {},
   "source": [
    "_**Expected Outputs:**_\n",
    "```python\n",
    "largest_square(12) == 9\n",
    "largest_square(41.5) == 100\n",
    "largest_square(324) == 6561\n",
    "```"
   ]
  },
  {
   "cell_type": "markdown",
   "metadata": {},
   "source": [
    "### Question 2\n",
    "Given a square matrix of size $n\\times n $ that only contains integers, compute the sum of the two diagonals. If the dimension of the square matrix is odd, make sure that you do not double count the value at the center of the matrix.\n",
    "\n",
    "<p align=\"center\">\n",
    "<img src=\"https://raw.githubusercontent.com/Explore-AI/Pictures/master/python_fundamentals/python_exam/Sum_of_diagonals.jpg\"\n",
    "     alt=\"Sum of diagonals\"\n",
    "     style=\"float: center; padding-bottom=0.5em\"\n",
    "     width=50%/>\n",
    "     <br>\n",
    "     <em>Figure 2: Sum of diagonals</em>\n",
    "</p>    \n",
    "\n",
    "\n",
    "**Function Specifications**\n",
    "\n",
    "*Arguments:*\n",
    "- **matrix** `(numpy.ndarray)` $\\rightarrow$ input matrix to be used for computing the sum\n",
    "\n",
    "*Return:*\n",
    "- **sum** `(int)` $\\rightarrow$  return the sum of the two diagonals\n"
   ]
  },
  {
   "cell_type": "code",
   "execution_count": 142,
   "metadata": {},
   "outputs": [],
   "source": [
    "### START FUNCTION\n",
    "def sum_of_diagonals(matrix):\n",
    "    diag_1=0\n",
    "    diag_2=0\n",
    "    k = matrix.shape[1]-1\n",
    "    for i in range(matrix.shape[0]):\n",
    "        diag_1 += matrix[i][i]\n",
    "        diag_2 += matrix[i][k]\n",
    "        k -=1\n",
    "    if matrix.shape[0]%2 != 0:\n",
    "        mid = int(np.floor(matrix.shape[0]/2))\n",
    "        sum = diag_1+diag_2-matrix[mid][mid]  \n",
    "    else:\n",
    "        sum = diag_1+diag_2 \n",
    "    return sum\n",
    "### END FUNCTION"
   ]
  },
  {
   "cell_type": "code",
   "execution_count": 143,
   "metadata": {},
   "outputs": [
    {
     "name": "stdout",
     "output_type": "stream",
     "text": [
      "[[2 8 7 6 3 8 6]\n",
      " [9 8 3 8 2 5 3]\n",
      " [5 1 4 8 2 9 0]\n",
      " [9 5 2 8 4 0 2]\n",
      " [8 9 1 2 2 2 6]\n",
      " [7 4 2 3 5 3 8]\n",
      " [5 0 0 5 9 1 8]]\n"
     ]
    },
    {
     "data": {
      "text/plain": [
       "58"
      ]
     },
     "execution_count": 143,
     "metadata": {},
     "output_type": "execute_result"
    }
   ],
   "source": [
    "matrix =np.random.randint(10,size=(7,7))\n",
    "print(matrix)\n",
    "sum_of_diagonals(matrix)\n"
   ]
  },
  {
   "cell_type": "markdown",
   "metadata": {},
   "source": [
    "_**Expected outputs:**_\n",
    "```python\n",
    "matrix = np.array([[7, 0, 8],\n",
    "                   [6, 9, 1],\n",
    "                   [3, 8, 4]])\n",
    "sum_of_diagonals(matrix)==31\n",
    "\n",
    "\n",
    "matrix = np.array([[4, 1, 1, 1],\n",
    "                   [1, 3, 8, 0],\n",
    "                   [0, 8, 5, 7],\n",
    "                   [1, 6, 1, 3]])\n",
    "sum_of_diagonals(matrix)==33\n",
    "```"
   ]
  },
  {
   "cell_type": "markdown",
   "metadata": {},
   "source": [
    "## Section 2: Strings and Lists\n",
    "\n",
    "### Question 3\n",
    "\n",
    "Write a function that computes the ratio of vowels vs consonants ($\\frac{vowels}{consonants}$) in a given sentence, the ratio should be given as a floating-point number rounded off to two decimal places. When writing your function be sure to appropriately cater for the following punctuation marks:\n",
    "- apostrophes (');\n",
    "- quotations (\");\n",
    "- full-stops (.);\n",
    "- commas (,);\n",
    "- exclamations (!);  \n",
    "- question marks (?);\n",
    "- colons (:);and\n",
    "- semicolons (;)\n",
    "\n",
    "*Arguments:*\n",
    "- **sentence** `(string)` $\\rightarrow$ sentence required to compute the ratio\n",
    "\n",
    "*Return:*\n",
    "- **ratio** `(float)` $\\rightarrow$ a ratio that describes the number of vowels to consonants: vowels/consonants\n",
    "\n",
    "> 💡**HINT**💡\n",
    ">\n",
    ">Remember to cater for the white spaces that appear in your sentence."
   ]
  },
  {
   "cell_type": "code",
   "execution_count": 147,
   "metadata": {},
   "outputs": [],
   "source": [
    "### START FUNCTION\n",
    "def vowel_consonant_ratio(sentence):\n",
    "    vowel_count=0\n",
    "    consonant_count=0\n",
    "    for character in sentence:\n",
    "        if character not in '\\'\".,!?;:aeiouAEIOU ':\n",
    "            consonant_count += 1\n",
    "        elif character in 'aeiouAEIOU':\n",
    "            vowel_count +=1\n",
    "    return round(vowel_count/consonant_count,2)\n",
    "### END FUNCTION"
   ]
  },
  {
   "cell_type": "code",
   "execution_count": 148,
   "metadata": {},
   "outputs": [
    {
     "data": {
      "text/plain": [
       "0.83"
      ]
     },
     "execution_count": 148,
     "metadata": {},
     "output_type": "execute_result"
    }
   ],
   "source": [
    "vowel_consonant_ratio(\"Thomas! Where have you been?\")"
   ]
  },
  {
   "cell_type": "markdown",
   "metadata": {},
   "source": [
    "***Expected outputs***\n",
    "\n",
    "```python\n",
    "vowel_consonant_ratio(\"This is a random sentence!\")==0.62\n",
    "vowel_consonant_ratio(\"Thomas! Where have you been?\")==0.83\n",
    "```"
   ]
  },
  {
   "cell_type": "markdown",
   "metadata": {},
   "source": [
    "### Question 4\n",
    "\n",
    "Write a function that will redact every third word in a sentence. Make use of the hashtag (`#`) symbol, to redact the characters that make up the word. i.e. if the word is 5 characters long, then a string of 5 hashtags should replace that word. However, this should not redact any of the following punctuation marks:\n",
    "- apostrophes (');\n",
    "- quotations (\");\n",
    "- full-stops (.);\n",
    "- commas (,);\n",
    "- exclamations (!);  \n",
    "- question marks (?);\n",
    "- colons (:); and\n",
    "- semicolons (;)\n",
    "\n",
    "*Arguments:*\n",
    "- **sentence** `(string)` $\\rightarrow$ sentence that needs to be redacted\n",
    "\n",
    "*Return:*\n",
    "- **redacted sentence** `(string)`$\\rightarrow$ every third word should be redacted"
   ]
  },
  {
   "cell_type": "code",
   "execution_count": 149,
   "metadata": {},
   "outputs": [],
   "source": [
    "### START FUNCTION\n",
    "def redact_words(sentence):\n",
    "    words = sentence.split(\" \")\n",
    "    redacted_sentence=\"\"\n",
    "    i=1\n",
    "    for word in words:\n",
    "        if i%3==0:\n",
    "            redaction=\"\"\n",
    "            for character in word:\n",
    "                if character in '\\'\".,!?;:':\n",
    "                    redaction = redaction + character\n",
    "                else:\n",
    "                    redaction = redaction +'#'\n",
    "            redacted_sentence = redacted_sentence+\" \"+redaction\n",
    "        else:\n",
    "            redacted_sentence = redacted_sentence+\" \"+word\n",
    "        i+=1\n",
    "    return redacted_sentence.strip()\n",
    "### END FUNCTION   "
   ]
  },
  {
   "cell_type": "code",
   "execution_count": 150,
   "metadata": {},
   "outputs": [
    {
     "data": {
      "text/plain": [
       "\"Explorer, this ## why you #######'# come to # test unprepared.\""
      ]
     },
     "execution_count": 150,
     "metadata": {},
     "output_type": "execute_result"
    }
   ],
   "source": [
    "sentence = \"Explorer, this is why you shouldn't come to a test unprepared.\"\n",
    "redact_words(sentence)"
   ]
  },
  {
   "cell_type": "markdown",
   "metadata": {},
   "source": [
    "***Expected outputs***\n",
    "\n",
    "```python\n",
    "sentence = \"My dear Explorer, do you understand the nature of the given question?\"\n",
    "redact_words(sentence) ==  'My dear ########, do you ########## the nature ## the given ########?'\n",
    "\n",
    "sentence = \"Explorer, this is why you shouldn't come to a test unprepared.\"\n",
    "redact_words(sentence)==\"Explorer, this ## why you #######'# come to # test unprepared.\"\n",
    "\n",
    "```"
   ]
  },
  {
   "cell_type": "markdown",
   "metadata": {},
   "source": [
    "### Question 5\n",
    "\n",
    "Given an alphanumeric list, separate it into three different lists stored in a dictionary:\n",
    "\n",
    "- the first list should only contain lowercase letters;\n",
    "- the second list should only contain uppercase letters; and\n",
    "- the third list should only contain numbers\n",
    "\n",
    "Each list stored in the dictionary should be stored in ascending order. Use the following naming convention when creating your lists:\n",
    "- numbers\n",
    "- uppercase\n",
    "- lowercase\n",
    "\n",
    "Please make sure that you adhere to the above instruction, as the name of your lists will be used to mark your function.\n",
    "\n",
    "*Arguments:*\n",
    "- **character_list:** `(list)` $\\rightarrow$ sentence that needs to be redacted\n",
    "\n",
    "*Return:*\n",
    "- **dictionary** `(dict)` $\\rightarrow$  dictionary containing all three lists"
   ]
  },
  {
   "cell_type": "code",
   "execution_count": 151,
   "metadata": {},
   "outputs": [],
   "source": [
    "### START FUNCTION\n",
    "def create_dictionary(character_list):\n",
    "    dictionary={'numbers':[],'uppercase':[],'lowercase':[]}\n",
    "    for character in character_list:\n",
    "        try:\n",
    "            int(character)\n",
    "            dictionary['numbers'].append(character)\n",
    "        except:\n",
    "            if character.isupper():\n",
    "                dictionary['uppercase'].append(character)\n",
    "            elif character.islower():\n",
    "                dictionary['lowercase'].append(character)\n",
    "    for item in dictionary:\n",
    "        dictionary[item].sort()\n",
    "    return dictionary\n",
    "### END FUNCTION\n"
   ]
  },
  {
   "cell_type": "code",
   "execution_count": 152,
   "metadata": {},
   "outputs": [
    {
     "data": {
      "text/plain": [
       "{'numbers': [2, 3.2, 5, 6],\n",
       " 'uppercase': ['A', 'K'],\n",
       " 'lowercase': ['j', 'o', 'x']}"
      ]
     },
     "execution_count": 152,
     "metadata": {},
     "output_type": "execute_result"
    }
   ],
   "source": [
    "lst = [2,'j','K','o',6,'x',5,'A',3.2]\n",
    "create_dictionary(lst)"
   ]
  },
  {
   "cell_type": "markdown",
   "metadata": {},
   "source": [
    "***Expected outputs***\n",
    "\n",
    "```python\n",
    "lst = [2,'j','K','o',6,'x',5,'A',3.2]\n",
    "create_dictionary(lst)\n",
    "\n",
    "{'numbers': [2, 3.2, 5, 6],\n",
    " 'uppercase': ['A', 'K'],\n",
    " 'lowercase': ['j', 'o', 'x']}\n",
    " ```\n",
    "\n"
   ]
  },
  {
   "cell_type": "markdown",
   "metadata": {},
   "source": [
    "## Section 3: Dataframes\n",
    "You will need the below dataframes in order to answer the following questions.\n",
    "\n",
    "_**DO NOT ALTER THESE DATAFRAMES AS DOING SO CAN LEAD TO A NEGATIVE MARK**_\n",
    "\n"
   ]
  },
  {
   "cell_type": "code",
   "execution_count": 157,
   "metadata": {},
   "outputs": [],
   "source": [
    "country_map_df = pd.read_csv('https://raw.githubusercontent.com/Explore-AI/Public-Data/master/AnalyseProject/country_code_map.csv', index_col='Country Code')\n",
    "population_df = pd.read_csv('https://raw.githubusercontent.com/Explore-AI/Public-Data/master/AnalyseProject/world_population.csv', index_col='Country Code')\n",
    "meta_df = pd.read_csv('https://raw.githubusercontent.com/Explore-AI/Public-Data/master/AnalyseProject/metadata.csv', index_col='Country Code')"
   ]
  },
  {
   "cell_type": "markdown",
   "metadata": {},
   "source": [
    "_**Dataframe specifications:**_\n",
    "\n",
    "The dataframes provide information about the population of the world for various years. Some things to note:\n",
    "* All dataframes have a `Country Code` as an index, which is a three-letter code referring to a country.\n",
    "* The `country_map_df` data maps the `Country Code` to a `Country Name`.\n",
    "* The `population_df` data contains information on the population for a given country between the years 1960 and 2017.\n",
    "* The `meta_df` data contains meta-information about each country, including its geographical region, its income group, and a comment on the country as a whole."
   ]
  },
  {
   "cell_type": "markdown",
   "metadata": {},
   "source": [
    "### Question 6\n",
    "\n",
    "Write a function that will return a list of countries for a specified region and income group. If the specified region and income group does not return a country, return `None` as the value.\n",
    "\n",
    "\n",
    "**Function specifications**\n",
    "\n",
    "*Argument(s):*\n",
    "- **region** `(string)` $\\rightarrow$ the region you want to query\n",
    "- **income_group** `(string)` $\\rightarrow$ the income group you want to query\n",
    "\n",
    "\n",
    "*Return:*\n",
    "- **countries** `(list)` $\\rightarrow$ return a list of countries that match the search criteria or **`None`** if no countries are found"
   ]
  },
  {
   "cell_type": "code",
   "execution_count": 158,
   "metadata": {},
   "outputs": [],
   "source": [
    "### START FUNCTION\n",
    "def find_countries_by_region_and_income(region,income_group):\n",
    "    df = country_map_df.join(meta_df, on='Country Code')\n",
    "    df = df[(df['Region']==str(region))& (df['Income Group']==str(income_group))]\n",
    "    if df.shape[0]== 0 :\n",
    "        return None\n",
    "    else:\n",
    "        return list(df['Country Name'].values)\n",
    "### END FUNCTION\n"
   ]
  },
  {
   "cell_type": "code",
   "execution_count": 201,
   "metadata": {},
   "outputs": [
    {
     "data": {
      "text/plain": [
       "['Botswana',\n",
       " 'Gabon',\n",
       " 'Equatorial Guinea',\n",
       " 'Mauritius',\n",
       " 'Namibia',\n",
       " 'South Africa']"
      ]
     },
     "execution_count": 201,
     "metadata": {},
     "output_type": "execute_result"
    }
   ],
   "source": [
    "countries = find_countries_by_region_and_income('Sub-Saharan Africa','Upper middle income')\n",
    "countries"
   ]
  },
  {
   "cell_type": "markdown",
   "metadata": {},
   "source": [
    "***Expected Output***\n",
    "\n",
    "```python\n",
    "find_countries_by_region_and_income('South Asia','High income')==None\n",
    "find_countries_by_region_and_income('Europe & Central Asia','Low income')==['Tajikistan']\n",
    "find_countries_by_region_and_income('Sub-Saharan Africa','Upper middle income')==['Botswana','Gabon','Equatorial Guinea','Mauritius','Namibia','South Africa']\n",
    "```"
   ]
  },
  {
   "cell_type": "code",
   "execution_count": null,
   "metadata": {},
   "outputs": [],
   "source": []
  }
 ],
 "metadata": {
  "interpreter": {
   "hash": "6b5ebbc2c6bde2831bc6c0426f75aca8137ccfc69d329557556ed73faee126ae"
  },
  "kernelspec": {
   "display_name": "Python 3.8.8 64-bit ('base': conda)",
   "name": "python3"
  },
  "language_info": {
   "codemirror_mode": {
    "name": "ipython",
    "version": 3
   },
   "file_extension": ".py",
   "mimetype": "text/x-python",
   "name": "python",
   "nbconvert_exporter": "python",
   "pygments_lexer": "ipython3",
   "version": "3.8.8"
  }
 },
 "nbformat": 4,
 "nbformat_minor": 2
}
